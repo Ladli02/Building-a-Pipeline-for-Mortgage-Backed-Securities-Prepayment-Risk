{
 "cells": [
  {
   "cell_type": "markdown",
   "id": "ac1897e3",
   "metadata": {},
   "source": [
    "## Importing all the libraries"
   ]
  },
  {
   "cell_type": "code",
   "execution_count": 1,
   "id": "27bcaea9",
   "metadata": {},
   "outputs": [],
   "source": [
    "import pandas as pd\n",
    "import numpy as np\n",
    "import seaborn as sns\n",
    "import matplotlib.pyplot as plt\n",
    "from sklearn.feature_selection import mutual_info_classif\n",
    "from sklearn.decomposition import PCA\n",
    "from sklearn.preprocessing import StandardScaler\n",
    "from sklearn.preprocessing import LabelEncoder\n",
    "from sklearn.ensemble import RandomForestClassifier\n",
    "from sklearn.feature_selection import SelectKBest\n",
    "from sklearn.feature_selection import chi2,f_classif\n",
    "from sklearn.model_selection import train_test_split\n",
    "from sklearn.neighbors import KNeighborsClassifier\n",
    "from sklearn.pipeline import Pipeline\n",
    "from sklearn.metrics import accuracy_score\n",
    "from sklearn.tree import DecisionTreeClassifier"
   ]
  },
  {
   "cell_type": "code",
   "execution_count": 2,
   "id": "65bf4fe1",
   "metadata": {},
   "outputs": [
    {
     "name": "stderr",
     "output_type": "stream",
     "text": [
      "C:\\Users\\ladli\\AppData\\Local\\Temp\\ipykernel_26596\\1756212267.py:1: DtypeWarning: Columns (18) have mixed types. Specify dtype option on import or set low_memory=False.\n",
      "  df = pd.read_csv(\"LoanExport.csv\")\n"
     ]
    }
   ],
   "source": [
    "df = pd.read_csv(\"LoanExport.csv\")"
   ]
  },
  {
   "cell_type": "code",
   "execution_count": 3,
   "id": "ead4ca1d",
   "metadata": {},
   "outputs": [
    {
     "name": "stdout",
     "output_type": "stream",
     "text": [
      "\n",
      "Column Names:\n"
     ]
    },
    {
     "data": {
      "text/plain": [
       "Index(['CreditScore', 'FirstPaymentDate', 'FirstTimeHomebuyer', 'MaturityDate',\n",
       "       'MSA', 'MIP', 'Units', 'Occupancy', 'OCLTV', 'DTI', 'OrigUPB', 'LTV',\n",
       "       'OrigInterestRate', 'Channel', 'PPM', 'ProductType', 'PropertyState',\n",
       "       'PropertyType', 'PostalCode', 'LoanSeqNum', 'LoanPurpose',\n",
       "       'OrigLoanTerm', 'NumBorrowers', 'SellerName', 'ServicerName',\n",
       "       'EverDelinquent', 'MonthsDelinquent', 'MonthsInRepayment'],\n",
       "      dtype='object')"
      ]
     },
     "execution_count": 3,
     "metadata": {},
     "output_type": "execute_result"
    }
   ],
   "source": [
    "# Display the column names\n",
    "\n",
    "print(\"\\nColumn Names:\")\n",
    "df.columns"
   ]
  },
  {
   "cell_type": "code",
   "execution_count": 4,
   "id": "53080757",
   "metadata": {},
   "outputs": [
    {
     "data": {
      "text/html": [
       "<div>\n",
       "<style scoped>\n",
       "    .dataframe tbody tr th:only-of-type {\n",
       "        vertical-align: middle;\n",
       "    }\n",
       "\n",
       "    .dataframe tbody tr th {\n",
       "        vertical-align: top;\n",
       "    }\n",
       "\n",
       "    .dataframe thead th {\n",
       "        text-align: right;\n",
       "    }\n",
       "</style>\n",
       "<table border=\"1\" class=\"dataframe\">\n",
       "  <thead>\n",
       "    <tr style=\"text-align: right;\">\n",
       "      <th></th>\n",
       "      <th>CreditScore</th>\n",
       "      <th>FirstPaymentDate</th>\n",
       "      <th>FirstTimeHomebuyer</th>\n",
       "      <th>MaturityDate</th>\n",
       "      <th>MSA</th>\n",
       "      <th>MIP</th>\n",
       "      <th>Units</th>\n",
       "      <th>Occupancy</th>\n",
       "      <th>OCLTV</th>\n",
       "      <th>DTI</th>\n",
       "      <th>...</th>\n",
       "      <th>PostalCode</th>\n",
       "      <th>LoanSeqNum</th>\n",
       "      <th>LoanPurpose</th>\n",
       "      <th>OrigLoanTerm</th>\n",
       "      <th>NumBorrowers</th>\n",
       "      <th>SellerName</th>\n",
       "      <th>ServicerName</th>\n",
       "      <th>EverDelinquent</th>\n",
       "      <th>MonthsDelinquent</th>\n",
       "      <th>MonthsInRepayment</th>\n",
       "    </tr>\n",
       "  </thead>\n",
       "  <tbody>\n",
       "    <tr>\n",
       "      <th>0</th>\n",
       "      <td>0</td>\n",
       "      <td>199902</td>\n",
       "      <td>N</td>\n",
       "      <td>202901</td>\n",
       "      <td>16974</td>\n",
       "      <td>25</td>\n",
       "      <td>1</td>\n",
       "      <td>O</td>\n",
       "      <td>89</td>\n",
       "      <td>27</td>\n",
       "      <td>...</td>\n",
       "      <td>60400</td>\n",
       "      <td>F199Q1268030</td>\n",
       "      <td>P</td>\n",
       "      <td>360</td>\n",
       "      <td>2</td>\n",
       "      <td>FL</td>\n",
       "      <td>WASHINGTONMUTUALBANK</td>\n",
       "      <td>0</td>\n",
       "      <td>0</td>\n",
       "      <td>52</td>\n",
       "    </tr>\n",
       "    <tr>\n",
       "      <th>1</th>\n",
       "      <td>0</td>\n",
       "      <td>199902</td>\n",
       "      <td>N</td>\n",
       "      <td>202901</td>\n",
       "      <td>19740</td>\n",
       "      <td>0</td>\n",
       "      <td>1</td>\n",
       "      <td>O</td>\n",
       "      <td>73</td>\n",
       "      <td>17</td>\n",
       "      <td>...</td>\n",
       "      <td>80200</td>\n",
       "      <td>F199Q1015092</td>\n",
       "      <td>N</td>\n",
       "      <td>360</td>\n",
       "      <td>1</td>\n",
       "      <td>FT</td>\n",
       "      <td>CHASEHOMEFINANCELLC</td>\n",
       "      <td>0</td>\n",
       "      <td>0</td>\n",
       "      <td>144</td>\n",
       "    </tr>\n",
       "    <tr>\n",
       "      <th>2</th>\n",
       "      <td>0</td>\n",
       "      <td>199902</td>\n",
       "      <td>N</td>\n",
       "      <td>202901</td>\n",
       "      <td>29940</td>\n",
       "      <td>0</td>\n",
       "      <td>1</td>\n",
       "      <td>O</td>\n",
       "      <td>75</td>\n",
       "      <td>16</td>\n",
       "      <td>...</td>\n",
       "      <td>66000</td>\n",
       "      <td>F199Q1266886</td>\n",
       "      <td>N</td>\n",
       "      <td>360</td>\n",
       "      <td>2</td>\n",
       "      <td>FL</td>\n",
       "      <td>WASHINGTONMUTUALBANK</td>\n",
       "      <td>0</td>\n",
       "      <td>0</td>\n",
       "      <td>67</td>\n",
       "    </tr>\n",
       "    <tr>\n",
       "      <th>3</th>\n",
       "      <td>0</td>\n",
       "      <td>199902</td>\n",
       "      <td>N</td>\n",
       "      <td>202901</td>\n",
       "      <td>31084</td>\n",
       "      <td>0</td>\n",
       "      <td>1</td>\n",
       "      <td>O</td>\n",
       "      <td>76</td>\n",
       "      <td>14</td>\n",
       "      <td>...</td>\n",
       "      <td>90700</td>\n",
       "      <td>F199Q1178167</td>\n",
       "      <td>N</td>\n",
       "      <td>360</td>\n",
       "      <td>2</td>\n",
       "      <td>GM</td>\n",
       "      <td>GMACMTGECORP</td>\n",
       "      <td>0</td>\n",
       "      <td>0</td>\n",
       "      <td>35</td>\n",
       "    </tr>\n",
       "    <tr>\n",
       "      <th>4</th>\n",
       "      <td>0</td>\n",
       "      <td>199902</td>\n",
       "      <td>N</td>\n",
       "      <td>202901</td>\n",
       "      <td>35644</td>\n",
       "      <td>0</td>\n",
       "      <td>1</td>\n",
       "      <td>O</td>\n",
       "      <td>78</td>\n",
       "      <td>18</td>\n",
       "      <td>...</td>\n",
       "      <td>7600</td>\n",
       "      <td>F199Q1178517</td>\n",
       "      <td>N</td>\n",
       "      <td>360</td>\n",
       "      <td>2</td>\n",
       "      <td>GM</td>\n",
       "      <td>GMACMTGECORP</td>\n",
       "      <td>0</td>\n",
       "      <td>0</td>\n",
       "      <td>54</td>\n",
       "    </tr>\n",
       "    <tr>\n",
       "      <th>5</th>\n",
       "      <td>0</td>\n",
       "      <td>199902</td>\n",
       "      <td>N</td>\n",
       "      <td>202901</td>\n",
       "      <td>X</td>\n",
       "      <td>25</td>\n",
       "      <td>1</td>\n",
       "      <td>O</td>\n",
       "      <td>89</td>\n",
       "      <td>40</td>\n",
       "      <td>...</td>\n",
       "      <td>80400</td>\n",
       "      <td>F199Q1224802</td>\n",
       "      <td>N</td>\n",
       "      <td>360</td>\n",
       "      <td>2</td>\n",
       "      <td>Ot</td>\n",
       "      <td>Other servicers</td>\n",
       "      <td>0</td>\n",
       "      <td>0</td>\n",
       "      <td>42</td>\n",
       "    </tr>\n",
       "    <tr>\n",
       "      <th>6</th>\n",
       "      <td>0</td>\n",
       "      <td>199902</td>\n",
       "      <td>N</td>\n",
       "      <td>202901</td>\n",
       "      <td>X</td>\n",
       "      <td>25</td>\n",
       "      <td>1</td>\n",
       "      <td>O</td>\n",
       "      <td>90</td>\n",
       "      <td>21</td>\n",
       "      <td>...</td>\n",
       "      <td>53100</td>\n",
       "      <td>F199Q1291436</td>\n",
       "      <td>P</td>\n",
       "      <td>360</td>\n",
       "      <td>1</td>\n",
       "      <td>RE</td>\n",
       "      <td>Other servicers</td>\n",
       "      <td>0</td>\n",
       "      <td>0</td>\n",
       "      <td>44</td>\n",
       "    </tr>\n",
       "    <tr>\n",
       "      <th>7</th>\n",
       "      <td>0</td>\n",
       "      <td>199902</td>\n",
       "      <td>X</td>\n",
       "      <td>202901</td>\n",
       "      <td>36740</td>\n",
       "      <td>0</td>\n",
       "      <td>1</td>\n",
       "      <td>O</td>\n",
       "      <td>72</td>\n",
       "      <td>20</td>\n",
       "      <td>...</td>\n",
       "      <td>32800</td>\n",
       "      <td>F199Q1001824</td>\n",
       "      <td>N</td>\n",
       "      <td>360</td>\n",
       "      <td>1</td>\n",
       "      <td>NO</td>\n",
       "      <td>WELLSFARGOBANKNA</td>\n",
       "      <td>1</td>\n",
       "      <td>3</td>\n",
       "      <td>145</td>\n",
       "    </tr>\n",
       "    <tr>\n",
       "      <th>8</th>\n",
       "      <td>0</td>\n",
       "      <td>199902</td>\n",
       "      <td>Y</td>\n",
       "      <td>202710</td>\n",
       "      <td>25540</td>\n",
       "      <td>30</td>\n",
       "      <td>1</td>\n",
       "      <td>O</td>\n",
       "      <td>95</td>\n",
       "      <td>38</td>\n",
       "      <td>...</td>\n",
       "      <td>6400</td>\n",
       "      <td>F199Q1079744</td>\n",
       "      <td>P</td>\n",
       "      <td>345</td>\n",
       "      <td>1</td>\n",
       "      <td>Ot</td>\n",
       "      <td>Other servicers</td>\n",
       "      <td>0</td>\n",
       "      <td>0</td>\n",
       "      <td>64</td>\n",
       "    </tr>\n",
       "    <tr>\n",
       "      <th>9</th>\n",
       "      <td>0</td>\n",
       "      <td>199902</td>\n",
       "      <td>Y</td>\n",
       "      <td>202901</td>\n",
       "      <td>48620</td>\n",
       "      <td>30</td>\n",
       "      <td>1</td>\n",
       "      <td>O</td>\n",
       "      <td>95</td>\n",
       "      <td>27</td>\n",
       "      <td>...</td>\n",
       "      <td>67000</td>\n",
       "      <td>F199Q1196318</td>\n",
       "      <td>P</td>\n",
       "      <td>360</td>\n",
       "      <td>1</td>\n",
       "      <td>Ot</td>\n",
       "      <td>WELLSFARGOBANKNA</td>\n",
       "      <td>1</td>\n",
       "      <td>104</td>\n",
       "      <td>212</td>\n",
       "    </tr>\n",
       "    <tr>\n",
       "      <th>10</th>\n",
       "      <td>0</td>\n",
       "      <td>199903</td>\n",
       "      <td>N</td>\n",
       "      <td>202902</td>\n",
       "      <td>12060</td>\n",
       "      <td>0</td>\n",
       "      <td>1</td>\n",
       "      <td>O</td>\n",
       "      <td>80</td>\n",
       "      <td>19</td>\n",
       "      <td>...</td>\n",
       "      <td>30100</td>\n",
       "      <td>F199Q1309144</td>\n",
       "      <td>P</td>\n",
       "      <td>360</td>\n",
       "      <td>2</td>\n",
       "      <td>Ot</td>\n",
       "      <td>Other servicers</td>\n",
       "      <td>0</td>\n",
       "      <td>0</td>\n",
       "      <td>37</td>\n",
       "    </tr>\n",
       "    <tr>\n",
       "      <th>11</th>\n",
       "      <td>0</td>\n",
       "      <td>199903</td>\n",
       "      <td>N</td>\n",
       "      <td>202902</td>\n",
       "      <td>12060</td>\n",
       "      <td>12</td>\n",
       "      <td>1</td>\n",
       "      <td>O</td>\n",
       "      <td>77</td>\n",
       "      <td>18</td>\n",
       "      <td>...</td>\n",
       "      <td>30000</td>\n",
       "      <td>F199Q1363208</td>\n",
       "      <td>C</td>\n",
       "      <td>360</td>\n",
       "      <td>1</td>\n",
       "      <td>ST</td>\n",
       "      <td>ABNAMROMTGEGROUPINC</td>\n",
       "      <td>0</td>\n",
       "      <td>0</td>\n",
       "      <td>47</td>\n",
       "    </tr>\n",
       "    <tr>\n",
       "      <th>12</th>\n",
       "      <td>0</td>\n",
       "      <td>199903</td>\n",
       "      <td>N</td>\n",
       "      <td>202902</td>\n",
       "      <td>12060</td>\n",
       "      <td>12</td>\n",
       "      <td>1</td>\n",
       "      <td>O</td>\n",
       "      <td>85</td>\n",
       "      <td>38</td>\n",
       "      <td>...</td>\n",
       "      <td>30100</td>\n",
       "      <td>F199Q1388109</td>\n",
       "      <td>P</td>\n",
       "      <td>360</td>\n",
       "      <td>1</td>\n",
       "      <td>Ot</td>\n",
       "      <td>BANKOFAMERICANA</td>\n",
       "      <td>0</td>\n",
       "      <td>0</td>\n",
       "      <td>53</td>\n",
       "    </tr>\n",
       "    <tr>\n",
       "      <th>13</th>\n",
       "      <td>0</td>\n",
       "      <td>199903</td>\n",
       "      <td>N</td>\n",
       "      <td>202902</td>\n",
       "      <td>12060</td>\n",
       "      <td>25</td>\n",
       "      <td>1</td>\n",
       "      <td>O</td>\n",
       "      <td>90</td>\n",
       "      <td>19</td>\n",
       "      <td>...</td>\n",
       "      <td>30600</td>\n",
       "      <td>F199Q1388083</td>\n",
       "      <td>N</td>\n",
       "      <td>360</td>\n",
       "      <td>2</td>\n",
       "      <td>Ot</td>\n",
       "      <td>BANKOFAMERICANA</td>\n",
       "      <td>0</td>\n",
       "      <td>0</td>\n",
       "      <td>55</td>\n",
       "    </tr>\n",
       "    <tr>\n",
       "      <th>14</th>\n",
       "      <td>0</td>\n",
       "      <td>199903</td>\n",
       "      <td>N</td>\n",
       "      <td>202902</td>\n",
       "      <td>12060</td>\n",
       "      <td>25</td>\n",
       "      <td>1</td>\n",
       "      <td>O</td>\n",
       "      <td>90</td>\n",
       "      <td>23</td>\n",
       "      <td>...</td>\n",
       "      <td>30200</td>\n",
       "      <td>F199Q1312860</td>\n",
       "      <td>P</td>\n",
       "      <td>360</td>\n",
       "      <td>2</td>\n",
       "      <td>ST</td>\n",
       "      <td>CHASEMANHATTANMTGECO</td>\n",
       "      <td>0</td>\n",
       "      <td>0</td>\n",
       "      <td>66</td>\n",
       "    </tr>\n",
       "  </tbody>\n",
       "</table>\n",
       "<p>15 rows × 28 columns</p>\n",
       "</div>"
      ],
      "text/plain": [
       "    CreditScore  FirstPaymentDate FirstTimeHomebuyer  MaturityDate    MSA  \\\n",
       "0             0            199902                  N        202901  16974   \n",
       "1             0            199902                  N        202901  19740   \n",
       "2             0            199902                  N        202901  29940   \n",
       "3             0            199902                  N        202901  31084   \n",
       "4             0            199902                  N        202901  35644   \n",
       "5             0            199902                  N        202901  X       \n",
       "6             0            199902                  N        202901  X       \n",
       "7             0            199902                  X        202901  36740   \n",
       "8             0            199902                  Y        202710  25540   \n",
       "9             0            199902                  Y        202901  48620   \n",
       "10            0            199903                  N        202902  12060   \n",
       "11            0            199903                  N        202902  12060   \n",
       "12            0            199903                  N        202902  12060   \n",
       "13            0            199903                  N        202902  12060   \n",
       "14            0            199903                  N        202902  12060   \n",
       "\n",
       "    MIP  Units Occupancy  OCLTV  DTI  ...  PostalCode    LoanSeqNum  \\\n",
       "0    25      1         O     89   27  ...       60400  F199Q1268030   \n",
       "1     0      1         O     73   17  ...       80200  F199Q1015092   \n",
       "2     0      1         O     75   16  ...       66000  F199Q1266886   \n",
       "3     0      1         O     76   14  ...       90700  F199Q1178167   \n",
       "4     0      1         O     78   18  ...        7600  F199Q1178517   \n",
       "5    25      1         O     89   40  ...       80400  F199Q1224802   \n",
       "6    25      1         O     90   21  ...       53100  F199Q1291436   \n",
       "7     0      1         O     72   20  ...       32800  F199Q1001824   \n",
       "8    30      1         O     95   38  ...        6400  F199Q1079744   \n",
       "9    30      1         O     95   27  ...       67000  F199Q1196318   \n",
       "10    0      1         O     80   19  ...       30100  F199Q1309144   \n",
       "11   12      1         O     77   18  ...       30000  F199Q1363208   \n",
       "12   12      1         O     85   38  ...       30100  F199Q1388109   \n",
       "13   25      1         O     90   19  ...       30600  F199Q1388083   \n",
       "14   25      1         O     90   23  ...       30200  F199Q1312860   \n",
       "\n",
       "    LoanPurpose OrigLoanTerm NumBorrowers SellerName          ServicerName  \\\n",
       "0             P          360            2         FL  WASHINGTONMUTUALBANK   \n",
       "1             N          360            1         FT  CHASEHOMEFINANCELLC    \n",
       "2             N          360            2         FL  WASHINGTONMUTUALBANK   \n",
       "3             N          360            2         GM  GMACMTGECORP           \n",
       "4             N          360            2         GM  GMACMTGECORP           \n",
       "5             N          360            2         Ot  Other servicers        \n",
       "6             P          360            1         RE  Other servicers        \n",
       "7             N          360            1         NO   WELLSFARGOBANKNA      \n",
       "8             P          345            1         Ot  Other servicers        \n",
       "9             P          360            1         Ot   WELLSFARGOBANKNA      \n",
       "10            P          360            2         Ot  Other servicers        \n",
       "11            C          360            1         ST   ABNAMROMTGEGROUPINC   \n",
       "12            P          360            1         Ot   BANKOFAMERICANA       \n",
       "13            N          360            2         Ot   BANKOFAMERICANA       \n",
       "14            P          360            2         ST  CHASEMANHATTANMTGECO   \n",
       "\n",
       "   EverDelinquent MonthsDelinquent MonthsInRepayment  \n",
       "0               0                0                52  \n",
       "1               0                0               144  \n",
       "2               0                0                67  \n",
       "3               0                0                35  \n",
       "4               0                0                54  \n",
       "5               0                0                42  \n",
       "6               0                0                44  \n",
       "7               1                3               145  \n",
       "8               0                0                64  \n",
       "9               1              104               212  \n",
       "10              0                0                37  \n",
       "11              0                0                47  \n",
       "12              0                0                53  \n",
       "13              0                0                55  \n",
       "14              0                0                66  \n",
       "\n",
       "[15 rows x 28 columns]"
      ]
     },
     "execution_count": 4,
     "metadata": {},
     "output_type": "execute_result"
    }
   ],
   "source": [
    "# Display the first 15 rows of the dataset\n",
    "\n",
    "df.head(15)"
   ]
  },
  {
   "cell_type": "code",
   "execution_count": 5,
   "id": "e13dabda",
   "metadata": {},
   "outputs": [
    {
     "name": "stdout",
     "output_type": "stream",
     "text": [
      "\n",
      "Variable Information:\n",
      "<class 'pandas.core.frame.DataFrame'>\n",
      "RangeIndex: 291451 entries, 0 to 291450\n",
      "Data columns (total 28 columns):\n",
      " #   Column              Non-Null Count   Dtype  \n",
      "---  ------              --------------   -----  \n",
      " 0   CreditScore         291451 non-null  int64  \n",
      " 1   FirstPaymentDate    291451 non-null  int64  \n",
      " 2   FirstTimeHomebuyer  291451 non-null  object \n",
      " 3   MaturityDate        291451 non-null  int64  \n",
      " 4   MSA                 291451 non-null  object \n",
      " 5   MIP                 291451 non-null  int64  \n",
      " 6   Units               291451 non-null  int64  \n",
      " 7   Occupancy           291451 non-null  object \n",
      " 8   OCLTV               291451 non-null  int64  \n",
      " 9   DTI                 291451 non-null  int64  \n",
      " 10  OrigUPB             291451 non-null  int64  \n",
      " 11  LTV                 291451 non-null  int64  \n",
      " 12  OrigInterestRate    291451 non-null  float64\n",
      " 13  Channel             291451 non-null  object \n",
      " 14  PPM                 291451 non-null  object \n",
      " 15  ProductType         291451 non-null  object \n",
      " 16  PropertyState       291451 non-null  object \n",
      " 17  PropertyType        291451 non-null  object \n",
      " 18  PostalCode          291451 non-null  object \n",
      " 19  LoanSeqNum          291451 non-null  object \n",
      " 20  LoanPurpose         291451 non-null  object \n",
      " 21  OrigLoanTerm        291451 non-null  int64  \n",
      " 22  NumBorrowers        291451 non-null  object \n",
      " 23  SellerName          266457 non-null  object \n",
      " 24  ServicerName        291451 non-null  object \n",
      " 25  EverDelinquent      291451 non-null  int64  \n",
      " 26  MonthsDelinquent    291451 non-null  int64  \n",
      " 27  MonthsInRepayment   291451 non-null  int64  \n",
      "dtypes: float64(1), int64(13), object(14)\n",
      "memory usage: 62.3+ MB\n"
     ]
    }
   ],
   "source": [
    "# Get information about each variable\n",
    "\n",
    "print(\"\\nVariable Information:\")\n",
    "df.info()"
   ]
  },
  {
   "cell_type": "code",
   "execution_count": 6,
   "id": "3de904cc",
   "metadata": {},
   "outputs": [
    {
     "data": {
      "text/plain": [
       "CreditScore               0\n",
       "FirstPaymentDate          0\n",
       "FirstTimeHomebuyer        0\n",
       "MaturityDate              0\n",
       "MSA                       0\n",
       "MIP                       0\n",
       "Units                     0\n",
       "Occupancy                 0\n",
       "OCLTV                     0\n",
       "DTI                       0\n",
       "OrigUPB                   0\n",
       "LTV                       0\n",
       "OrigInterestRate          0\n",
       "Channel                   0\n",
       "PPM                       0\n",
       "ProductType               0\n",
       "PropertyState             0\n",
       "PropertyType              0\n",
       "PostalCode                0\n",
       "LoanSeqNum                0\n",
       "LoanPurpose               0\n",
       "OrigLoanTerm              0\n",
       "NumBorrowers              0\n",
       "SellerName            24994\n",
       "ServicerName              0\n",
       "EverDelinquent            0\n",
       "MonthsDelinquent          0\n",
       "MonthsInRepayment         0\n",
       "dtype: int64"
      ]
     },
     "execution_count": 6,
     "metadata": {},
     "output_type": "execute_result"
    }
   ],
   "source": [
    "missing_values = df.isnull().sum()\n",
    "missing_values"
   ]
  },
  {
   "cell_type": "code",
   "execution_count": 7,
   "id": "2624d048",
   "metadata": {},
   "outputs": [],
   "source": [
    "df['SellerName'].fillna(df['SellerName'].mode()[0], inplace=True)"
   ]
  },
  {
   "cell_type": "code",
   "execution_count": 8,
   "id": "fc06d873",
   "metadata": {},
   "outputs": [
    {
     "name": "stdout",
     "output_type": "stream",
     "text": [
      "FirstTimeHomebuyer has 3 categories\n",
      "MSA has 392 categories\n",
      "Occupancy has 3 categories\n",
      "Channel has 4 categories\n",
      "PPM has 3 categories\n",
      "ProductType has 1 categories\n",
      "PropertyState has 53 categories\n",
      "PropertyType has 7 categories\n",
      "PostalCode has 1767 categories\n",
      "LoanSeqNum has 291451 categories\n",
      "LoanPurpose has 3 categories\n",
      "NumBorrowers has 3 categories\n",
      "SellerName has 20 categories\n",
      "ServicerName has 20 categories\n"
     ]
    }
   ],
   "source": [
    "cat_columns = df.select_dtypes(include=['object'])\n",
    "\n",
    "# Iterate over categorical columns\n",
    "for col in cat_columns:\n",
    "    # Count the number of unique categories in the column\n",
    "    num_categories = df[col].nunique()\n",
    "    print(f\"{col} has {num_categories} categories\")"
   ]
  },
  {
   "cell_type": "markdown",
   "id": "b84272f7",
   "metadata": {},
   "source": [
    "## Data Cleaning"
   ]
  },
  {
   "cell_type": "code",
   "execution_count": 9,
   "id": "c4cc5fb6",
   "metadata": {},
   "outputs": [],
   "source": [
    "class DataCleaning:\n",
    "    \n",
    "    def fit(self, X):\n",
    "        return self\n",
    "    \n",
    "    def transform(self, X):\n",
    "        X_cleaned = X.copy()\n",
    "        \n",
    "        # Replace specific values with np.nan\n",
    "        columns_to_replace = ['FirstTimeHomebuyer', 'MSA', 'PPM', 'PropertyType', 'NumBorrowers']\n",
    "        for col in columns_to_replace:\n",
    "            X_cleaned[col] = X_cleaned[col].replace('X', np.nan)\n",
    "        \n",
    "        # Remove leading/trailing whitespace in 'MSA' column\n",
    "        X_cleaned['MSA'] = X_cleaned['MSA'].str.strip()\n",
    "        \n",
    "        # Return the cleaned DataFrame\n",
    "        return X_cleaned\n"
   ]
  },
  {
   "cell_type": "code",
   "execution_count": 10,
   "id": "662bd74d",
   "metadata": {},
   "outputs": [
    {
     "name": "stdout",
     "output_type": "stream",
     "text": [
      "   CreditScore  FirstPaymentDate FirstTimeHomebuyer  MaturityDate    MSA  MIP  \\\n",
      "0            0            199902                  N        202901  16974   25   \n",
      "1            0            199902                  N        202901  19740    0   \n",
      "\n",
      "   Units Occupancy  OCLTV  DTI  ...  PostalCode    LoanSeqNum  LoanPurpose  \\\n",
      "0      1         O     89   27  ...       60400  F199Q1268030            P   \n",
      "1      1         O     73   17  ...       80200  F199Q1015092            N   \n",
      "\n",
      "  OrigLoanTerm NumBorrowers SellerName          ServicerName EverDelinquent  \\\n",
      "0          360            2         FL  WASHINGTONMUTUALBANK              0   \n",
      "1          360            1         FT  CHASEHOMEFINANCELLC               0   \n",
      "\n",
      "  MonthsDelinquent MonthsInRepayment  \n",
      "0                0                52  \n",
      "1                0               144  \n",
      "\n",
      "[2 rows x 28 columns]\n"
     ]
    }
   ],
   "source": [
    "unique_combinations = df.drop_duplicates(subset=['SellerName', 'MSA', 'PPM', 'PropertyType', 'NumBorrowers'])\n",
    "\n",
    "print(unique_combinations.head(2))"
   ]
  },
  {
   "cell_type": "code",
   "execution_count": 11,
   "id": "6c74fb2f",
   "metadata": {},
   "outputs": [
    {
     "name": "stdout",
     "output_type": "stream",
     "text": [
      "   CreditScore  FirstPaymentDate FirstTimeHomebuyer  MaturityDate    MSA  MIP  \\\n",
      "0            0            199902                  N        202901  16974   25   \n",
      "1            0            199902                  N        202901  19740    0   \n",
      "2            0            199902                  N        202901  29940    0   \n",
      "3            0            199902                  N        202901  31084    0   \n",
      "4            0            199902                  N        202901  35644    0   \n",
      "\n",
      "   Units Occupancy  OCLTV  DTI  ...  PostalCode    LoanSeqNum  LoanPurpose  \\\n",
      "0      1         O     89   27  ...       60400  F199Q1268030            P   \n",
      "1      1         O     73   17  ...       80200  F199Q1015092            N   \n",
      "2      1         O     75   16  ...       66000  F199Q1266886            N   \n",
      "3      1         O     76   14  ...       90700  F199Q1178167            N   \n",
      "4      1         O     78   18  ...        7600  F199Q1178517            N   \n",
      "\n",
      "  OrigLoanTerm NumBorrowers SellerName          ServicerName EverDelinquent  \\\n",
      "0          360          2.0         FL  WASHINGTONMUTUALBANK              0   \n",
      "1          360          1.0         FT  CHASEHOMEFINANCELLC               0   \n",
      "2          360          2.0         FL  WASHINGTONMUTUALBANK              0   \n",
      "3          360          2.0         GM  GMACMTGECORP                      0   \n",
      "4          360          2.0         GM  GMACMTGECORP                      0   \n",
      "\n",
      "  MonthsDelinquent MonthsInRepayment  \n",
      "0                0                52  \n",
      "1                0               144  \n",
      "2                0                67  \n",
      "3                0                35  \n",
      "4                0                54  \n",
      "\n",
      "[5 rows x 28 columns]\n"
     ]
    }
   ],
   "source": [
    "class MissingValueHandler:\n",
    "    \n",
    "    def fit(self, X, y=None):\n",
    "        return self\n",
    "    \n",
    "    def transform(self, X):\n",
    "        # Handle missing values as you did before\n",
    "        \n",
    "        # Clean 'NumBorrowers' column\n",
    "        X['NumBorrowers'] = X['NumBorrowers'].apply(self.clean_num_borrowers)\n",
    "        \n",
    "        return X\n",
    "    \n",
    "    def clean_num_borrowers(self, value):\n",
    "        try:\n",
    "            return int(value)\n",
    "        except (ValueError, TypeError):\n",
    "            return None\n",
    "\n",
    "# Create an instance of MissingValueHandler\n",
    "missing_value_handler = MissingValueHandler()\n",
    "\n",
    "# Apply the transformation\n",
    "transformed_df = missing_value_handler.transform(df.copy())  # Make a copy to avoid modifying the original data\n",
    "\n",
    "print(transformed_df.head())"
   ]
  },
  {
   "cell_type": "code",
   "execution_count": 12,
   "id": "0c41c87a",
   "metadata": {},
   "outputs": [
    {
     "name": "stdout",
     "output_type": "stream",
     "text": [
      "<class 'pandas.core.frame.DataFrame'>\n",
      "RangeIndex: 291451 entries, 0 to 291450\n",
      "Data columns (total 28 columns):\n",
      " #   Column              Non-Null Count   Dtype  \n",
      "---  ------              --------------   -----  \n",
      " 0   CreditScore         291451 non-null  int64  \n",
      " 1   FirstPaymentDate    291451 non-null  int64  \n",
      " 2   FirstTimeHomebuyer  291451 non-null  object \n",
      " 3   MaturityDate        291451 non-null  int64  \n",
      " 4   MSA                 291451 non-null  object \n",
      " 5   MIP                 291451 non-null  int64  \n",
      " 6   Units               291451 non-null  int64  \n",
      " 7   Occupancy           291451 non-null  object \n",
      " 8   OCLTV               291451 non-null  int64  \n",
      " 9   DTI                 291451 non-null  int64  \n",
      " 10  OrigUPB             291451 non-null  int64  \n",
      " 11  LTV                 291451 non-null  int64  \n",
      " 12  OrigInterestRate    291451 non-null  float64\n",
      " 13  Channel             291451 non-null  object \n",
      " 14  PPM                 291451 non-null  object \n",
      " 15  ProductType         291451 non-null  object \n",
      " 16  PropertyState       291451 non-null  object \n",
      " 17  PropertyType        291451 non-null  object \n",
      " 18  PostalCode          291451 non-null  object \n",
      " 19  LoanSeqNum          291451 non-null  object \n",
      " 20  LoanPurpose         291451 non-null  object \n",
      " 21  OrigLoanTerm        291451 non-null  int64  \n",
      " 22  NumBorrowers        291451 non-null  object \n",
      " 23  SellerName          291451 non-null  object \n",
      " 24  ServicerName        291451 non-null  object \n",
      " 25  EverDelinquent      291451 non-null  int64  \n",
      " 26  MonthsDelinquent    291451 non-null  int64  \n",
      " 27  MonthsInRepayment   291451 non-null  int64  \n",
      "dtypes: float64(1), int64(13), object(14)\n",
      "memory usage: 62.3+ MB\n"
     ]
    }
   ],
   "source": [
    "df.info()"
   ]
  },
  {
   "cell_type": "code",
   "execution_count": 13,
   "id": "cba5eaeb",
   "metadata": {},
   "outputs": [
    {
     "name": "stdout",
     "output_type": "stream",
     "text": [
      "   CreditScore  FirstPaymentDate FirstTimeHomebuyer  MaturityDate  MIP  Units  \\\n",
      "0            0            199902                  N        202901   25      1   \n",
      "1            0            199902                  N        202901    0      1   \n",
      "2            0            199902                  N        202901    0      1   \n",
      "3            0            199902                  N        202901    0      1   \n",
      "4            0            199902                  N        202901    0      1   \n",
      "\n",
      "  Occupancy  OCLTV  DTI  OrigUPB  ...  Channel  PPM ProductType PropertyType  \\\n",
      "0         O     89   27   117000  ...        T    N       FRM             SF   \n",
      "1         O     73   17   109000  ...        R    N       FRM             SF   \n",
      "2         O     75   16    88000  ...        T    N       FRM             SF   \n",
      "3         O     76   14   160000  ...        R    N       FRM             SF   \n",
      "4         O     78   18   109000  ...        R    N       FRM             SF   \n",
      "\n",
      "  LoanPurpose OrigLoanTerm NumBorrowers  EverDelinquent MonthsDelinquent  \\\n",
      "0           P          360            2               0                0   \n",
      "1           N          360            1               0                0   \n",
      "2           N          360            2               0                0   \n",
      "3           N          360            2               0                0   \n",
      "4           N          360            2               0                0   \n",
      "\n",
      "   MonthsInRepayment  \n",
      "0                 52  \n",
      "1                144  \n",
      "2                 67  \n",
      "3                 35  \n",
      "4                 54  \n",
      "\n",
      "[5 rows x 22 columns]\n"
     ]
    }
   ],
   "source": [
    "class FeatureDropper:\n",
    "    \n",
    "    def fit(self, X, y=None):\n",
    "        return self\n",
    "    \n",
    "    def transform(self, X):\n",
    "        X.drop(['MSA', 'PostalCode', 'PropertyState', 'ServicerName', 'SellerName', 'LoanSeqNum'], axis=1, inplace=True)\n",
    "        return X\n",
    "\n",
    "\n",
    "# Create an instance of FeatureDropper\n",
    "feature_dropper = FeatureDropper()\n",
    "\n",
    "# Fit and transform\n",
    "transformed_df = feature_dropper.transform(df.copy())  # Make a copy to avoid modifying the original data\n",
    "\n",
    "print(transformed_df.head())\n"
   ]
  },
  {
   "cell_type": "code",
   "execution_count": 14,
   "id": "15a397f5",
   "metadata": {},
   "outputs": [
    {
     "name": "stdout",
     "output_type": "stream",
     "text": [
      "   CreditScore  FirstPaymentDate FirstTimeHomebuyer  MaturityDate    MSA  MIP  \\\n",
      "0            0            199902                  N        202901  16974   25   \n",
      "1            0            199902                  N        202901  19740    0   \n",
      "\n",
      "   Units Occupancy  OCLTV  DTI  ...  PostalCode    LoanSeqNum  LoanPurpose  \\\n",
      "0    1.0         O     89   27  ...       60400  F199Q1268030            P   \n",
      "1    1.0         O     73   17  ...       80200  F199Q1015092            N   \n",
      "\n",
      "  OrigLoanTerm NumBorrowers SellerName          ServicerName EverDelinquent  \\\n",
      "0          360            2         FL  WASHINGTONMUTUALBANK              0   \n",
      "1          360            1         FT  CHASEHOMEFINANCELLC               0   \n",
      "\n",
      "  MonthsDelinquent MonthsInRepayment  \n",
      "0                0                52  \n",
      "1                0               144  \n",
      "\n",
      "[2 rows x 28 columns]\n"
     ]
    }
   ],
   "source": [
    "class Handling_Outliers:\n",
    "    \n",
    "    def handle_outlier(self, col, z_score_threshold):\n",
    "        median = col.median()\n",
    "        mad = (col - median).abs().median()\n",
    "        modified_z_score = z_score_threshold\n",
    "        lower = median - (modified_z_score * mad)\n",
    "        upper = median + (modified_z_score * mad)\n",
    "        return lower, upper\n",
    "\n",
    "    def fit(self, X, y=None):\n",
    "        return self\n",
    "\n",
    "    def transform(self, X, z_score_threshold=2.0):\n",
    "        for col_name in ['Units', 'OrigInterestRate', 'OrigUPB']:\n",
    "            lower, upper = self.handle_outlier(X[col_name], z_score_threshold)\n",
    "            X[col_name] = X[col_name].apply(lambda x: lower if x < lower else (upper if x > upper else x))\n",
    "        \n",
    "        return X\n",
    "\n",
    "# Create an instance of Handling_Outliers\n",
    "outliers_handler = Handling_Outliers()\n",
    "\n",
    "# Apply the transformation with a z-score threshold of 3.0\n",
    "transformed_df = outliers_handler.transform(df.copy(), z_score_threshold=3.0)\n",
    "\n",
    "print(transformed_df.head(2))\n"
   ]
  },
  {
   "cell_type": "code",
   "execution_count": 15,
   "id": "33e369b2",
   "metadata": {},
   "outputs": [
    {
     "name": "stdout",
     "output_type": "stream",
     "text": [
      "   CreditScore  FirstPaymentDate FirstTimeHomebuyer  MaturityDate  MIP  Units  \\\n",
      "0            0            199902                  N        202901   25    1.0   \n",
      "1            0            199902                  N        202901    0    1.0   \n",
      "\n",
      "  Occupancy  OCLTV  DTI   OrigUPB  ...  Channel  PPM ProductType PropertyType  \\\n",
      "0         O     89   27  117000.0  ...        T    N       FRM             SF   \n",
      "1         O     73   17  109000.0  ...        R    N       FRM             SF   \n",
      "\n",
      "  LoanPurpose OrigLoanTerm NumBorrowers  EverDelinquent  MonthsDelinquent  \\\n",
      "0           P          360          2.0               0                 0   \n",
      "1           N          360          1.0               0                 0   \n",
      "\n",
      "   MonthsInRepayment  \n",
      "0                 52  \n",
      "1                144  \n",
      "\n",
      "[2 rows x 22 columns]\n"
     ]
    }
   ],
   "source": [
    "# Data Cleaning\n",
    "\n",
    "data_cleaner = DataCleaning()\n",
    "df_cleaned = data_cleaner.transform(df.copy())  \n",
    "\n",
    "# Handling Outliers\n",
    "\n",
    "outliers_handler = Handling_Outliers()\n",
    "df_handled_outliers = outliers_handler.transform(df_cleaned.copy()) \n",
    "\n",
    "# Handling Missing Values\n",
    "\n",
    "missing_value_handler = MissingValueHandler()\n",
    "df_handled_missing = missing_value_handler.transform(df_handled_outliers.copy())\n",
    "\n",
    "# Droping Unused Features\n",
    "\n",
    "feature_dropper = FeatureDropper()\n",
    "final_transformed_df = feature_dropper.transform(df_handled_missing.copy()) \n",
    "print(final_transformed_df.head(2))\n",
    "\n"
   ]
  },
  {
   "cell_type": "code",
   "execution_count": 16,
   "id": "54935cef",
   "metadata": {},
   "outputs": [],
   "source": [
    "New_Df2 = df.copy()"
   ]
  },
  {
   "cell_type": "markdown",
   "id": "c582569c",
   "metadata": {},
   "source": [
    "### Converting CreditScore into credit_score_ranges\n",
    "\n",
    "**The ranges are in Descending order**\n",
    "\n",
    "800 to 850: Excellent Individuals in this range are considered to be low-risk borrowers. They may have an easier time securing a loan than borrowers with lower scores.\n",
    "\n",
    "740 to 799: Very good Individuals in this range have demonstrated a history of positive credit behavior and may have an easier time being approved for additional credit.\n",
    "\n",
    "670 to 739: Good Lenders generally view those with credit scores of 670 and up as acceptable or lower-risk borrowers.\n",
    "\n",
    "580 to 669: Fair Individuals in this category are often considered “subprime” borrowers. Lenders may consider them higher-risk, and they may have trouble qualifying for new credit.\n",
    "\n",
    "300 to 579: Poor Individuals in this range often have difficulty being approved for new credit. If you find yourself in the poor category, it's likely you'll need to take steps to improve your credit scores before you can secure any new credit."
   ]
  },
  {
   "cell_type": "code",
   "execution_count": 17,
   "id": "47ed2961",
   "metadata": {},
   "outputs": [
    {
     "name": "stdout",
     "output_type": "stream",
     "text": [
      "        CreditScore  FirstPaymentDate FirstTimeHomebuyer  MaturityDate    MSA  \\\n",
      "0                 0            199902                  N        202901  16974   \n",
      "1                 0            199902                  N        202901  19740   \n",
      "2                 0            199902                  N        202901  29940   \n",
      "3                 0            199902                  N        202901  31084   \n",
      "4                 0            199902                  N        202901  35644   \n",
      "...             ...               ...                ...           ...    ...   \n",
      "291446          839            199903                  N        202902  37964   \n",
      "291447          840            200210                  N        202904  35644   \n",
      "291448          840            200304                  N        202904  42044   \n",
      "291449          845            199904                  N        202903  37964   \n",
      "291450          849            199903                  N        202902  37964   \n",
      "\n",
      "        MIP  Units Occupancy  OCLTV  DTI  ...    LoanSeqNum  LoanPurpose  \\\n",
      "0        25      1         O     89   27  ...  F199Q1268030            P   \n",
      "1         0      1         O     73   17  ...  F199Q1015092            N   \n",
      "2         0      1         O     75   16  ...  F199Q1266886            N   \n",
      "3         0      1         O     76   14  ...  F199Q1178167            N   \n",
      "4         0      1         O     78   18  ...  F199Q1178517            N   \n",
      "...     ...    ...       ...    ...  ...  ...           ...          ...   \n",
      "291446    0      1         O     60   32  ...  F199Q1220925            N   \n",
      "291447    0      1         O     73    0  ...  F199Q1401332            P   \n",
      "291448    0      1         O     73   31  ...  F199Q1401282            N   \n",
      "291449    0      1         I     80   54  ...  F199Q1220924            P   \n",
      "291450    0      1         O     47   29  ...  F199Q1220923            P   \n",
      "\n",
      "        OrigLoanTerm NumBorrowers SellerName          ServicerName  \\\n",
      "0                360            2         FL  WASHINGTONMUTUALBANK   \n",
      "1                360            1         FT  CHASEHOMEFINANCELLC    \n",
      "2                360            2         FL  WASHINGTONMUTUALBANK   \n",
      "3                360            2         GM  GMACMTGECORP           \n",
      "4                360            2         GM  GMACMTGECORP           \n",
      "...              ...          ...        ...                   ...   \n",
      "291446           360            2         Ot  Other servicers        \n",
      "291447           319            2         Ot  Other servicers        \n",
      "291448           313            1         Ot  Other servicers        \n",
      "291449           360            2         Ot  Other servicers        \n",
      "291450           360            2         Ot  Other servicers        \n",
      "\n",
      "       EverDelinquent MonthsDelinquent MonthsInRepayment     CreditScoreRange  \n",
      "0                   0                0                52         Poor (0-579)  \n",
      "1                   0                0               144         Poor (0-579)  \n",
      "2                   0                0                67         Poor (0-579)  \n",
      "3                   0                0                35         Poor (0-579)  \n",
      "4                   0                0                54         Poor (0-579)  \n",
      "...               ...              ...               ...                  ...  \n",
      "291446              0                0                12  Excellent (800-850)  \n",
      "291447              0                0                53  Excellent (800-850)  \n",
      "291448              0                0                38  Excellent (800-850)  \n",
      "291449              0                0                32  Excellent (800-850)  \n",
      "291450              0                0                29  Excellent (800-850)  \n",
      "\n",
      "[291451 rows x 29 columns]\n",
      "Good (670-739)         125680\n",
      "Very Good (740-799)     97741\n",
      "Fair (580-669)          61264\n",
      "Poor (0-579)             3674\n",
      "Excellent (800-850)      3092\n",
      "Name: CreditScoreRange, dtype: int64\n"
     ]
    }
   ],
   "source": [
    "# Define the credit score ranges and corresponding labels\n",
    "credit_score_ranges = [0, 580, 670, 740, 800, 850]\n",
    "credit_score_labels = ['Poor (0-579)', 'Fair (580-669)', 'Good (670-739)', 'Very Good (740-799)', 'Excellent (800-850)']\n",
    "\n",
    "# Create the 'CreditScoreRange' column with credit score ranges\n",
    "New_Df2['CreditScoreRange'] = pd.cut(New_Df2['CreditScore'], bins=credit_score_ranges, labels=credit_score_labels, right=False)\n",
    "\n",
    "# Calculate the frequency of each credit score range\n",
    "credit_score_freq = New_Df2['CreditScoreRange'].value_counts()\n",
    "\n",
    "New_Df2['CreditScoreRange'] = New_Df2['CreditScoreRange'].astype('object')\n",
    "\n",
    "print(New_Df2)\n",
    "print(credit_score_freq)\n"
   ]
  },
  {
   "cell_type": "code",
   "execution_count": 18,
   "id": "92283cf7",
   "metadata": {},
   "outputs": [
    {
     "name": "stdout",
     "output_type": "stream",
     "text": [
      "<class 'pandas.core.frame.DataFrame'>\n",
      "RangeIndex: 291451 entries, 0 to 291450\n",
      "Data columns (total 29 columns):\n",
      " #   Column              Non-Null Count   Dtype  \n",
      "---  ------              --------------   -----  \n",
      " 0   CreditScore         291451 non-null  int64  \n",
      " 1   FirstPaymentDate    291451 non-null  int64  \n",
      " 2   FirstTimeHomebuyer  291451 non-null  object \n",
      " 3   MaturityDate        291451 non-null  int64  \n",
      " 4   MSA                 291451 non-null  object \n",
      " 5   MIP                 291451 non-null  int64  \n",
      " 6   Units               291451 non-null  int64  \n",
      " 7   Occupancy           291451 non-null  object \n",
      " 8   OCLTV               291451 non-null  int64  \n",
      " 9   DTI                 291451 non-null  int64  \n",
      " 10  OrigUPB             291451 non-null  int64  \n",
      " 11  LTV                 291451 non-null  int64  \n",
      " 12  OrigInterestRate    291451 non-null  float64\n",
      " 13  Channel             291451 non-null  object \n",
      " 14  PPM                 291451 non-null  object \n",
      " 15  ProductType         291451 non-null  object \n",
      " 16  PropertyState       291451 non-null  object \n",
      " 17  PropertyType        291451 non-null  object \n",
      " 18  PostalCode          291451 non-null  object \n",
      " 19  LoanSeqNum          291451 non-null  object \n",
      " 20  LoanPurpose         291451 non-null  object \n",
      " 21  OrigLoanTerm        291451 non-null  int64  \n",
      " 22  NumBorrowers        291451 non-null  object \n",
      " 23  SellerName          291451 non-null  object \n",
      " 24  ServicerName        291451 non-null  object \n",
      " 25  EverDelinquent      291451 non-null  int64  \n",
      " 26  MonthsDelinquent    291451 non-null  int64  \n",
      " 27  MonthsInRepayment   291451 non-null  int64  \n",
      " 28  CreditScoreRange    291451 non-null  object \n",
      "dtypes: float64(1), int64(13), object(15)\n",
      "memory usage: 64.5+ MB\n"
     ]
    }
   ],
   "source": [
    "New_Df2.info()"
   ]
  },
  {
   "cell_type": "markdown",
   "id": "c8b03a64",
   "metadata": {},
   "source": [
    "### Converting LTV into LTV_Category"
   ]
  },
  {
   "cell_type": "code",
   "execution_count": 19,
   "id": "9f2045fe",
   "metadata": {},
   "outputs": [
    {
     "name": "stdout",
     "output_type": "stream",
     "text": [
      "        LTV LTV_Category\n",
      "0        89         High\n",
      "1        73         High\n",
      "2        75         High\n",
      "3        76         High\n",
      "4        78         High\n",
      "...     ...          ...\n",
      "291446   60         High\n",
      "291447   73         High\n",
      "291448   73         High\n",
      "291449   80         High\n",
      "291450   47       Medium\n",
      "\n",
      "[291451 rows x 2 columns]\n"
     ]
    }
   ],
   "source": [
    "# Define the bins and labels for the categories\n",
    "bins = [0, 25, 50, 1000]\n",
    "labels = ['Low', 'Medium', 'High']\n",
    "\n",
    "# Create a new column 'LTV_Category' with the transformed categories\n",
    "New_Df2['LTV_Category'] = pd.cut(New_Df2['LTV'], bins=bins, labels=labels)\n",
    "\n",
    "\n",
    "# Convert the 'LTV_Category' column data type to 'object'\n",
    "New_Df2['LTV_Category'] = New_Df2['LTV_Category'].astype('object')\n",
    "\n",
    "# Display the DataFrame with the new 'LTV_Category'\n",
    "print(New_Df2[['LTV', 'LTV_Category']])\n"
   ]
  },
  {
   "cell_type": "code",
   "execution_count": 20,
   "id": "a50f9091",
   "metadata": {},
   "outputs": [],
   "source": [
    "# Fill missing values in 'LTV_Category' column with a specified value ('None' in this case)\n",
    "New_Df2['LTV_Category'].fillna('None', inplace=True)\n"
   ]
  },
  {
   "cell_type": "markdown",
   "id": "6accba36",
   "metadata": {},
   "source": [
    "###  Calculating the number of months between 'FirstPaymentDate' and 'MaturityDate'"
   ]
  },
  {
   "cell_type": "code",
   "execution_count": 21,
   "id": "02a7a0ba",
   "metadata": {},
   "outputs": [
    {
     "name": "stdout",
     "output_type": "stream",
     "text": [
      "   CreditScore FirstPaymentDate FirstTimeHomebuyer MaturityDate    MSA  MIP  \\\n",
      "0            0           199902                  N       202901  16974   25   \n",
      "1            0           199902                  N       202901  19740    0   \n",
      "2            0           199902                  N       202901  29940    0   \n",
      "3            0           199902                  N       202901  31084    0   \n",
      "4            0           199902                  N       202901  35644    0   \n",
      "\n",
      "   Units Occupancy  OCLTV  DTI  ...  OrigLoanTerm  NumBorrowers  SellerName  \\\n",
      "0      1         O     89   27  ...           360             2          FL   \n",
      "1      1         O     73   17  ...           360             1          FT   \n",
      "2      1         O     75   16  ...           360             2          FL   \n",
      "3      1         O     76   14  ...           360             2          GM   \n",
      "4      1         O     78   18  ...           360             2          GM   \n",
      "\n",
      "           ServicerName EverDelinquent MonthsDelinquent MonthsInRepayment  \\\n",
      "0  WASHINGTONMUTUALBANK              0                0                52   \n",
      "1  CHASEHOMEFINANCELLC               0                0               144   \n",
      "2  WASHINGTONMUTUALBANK              0                0                67   \n",
      "3  GMACMTGECORP                      0                0                35   \n",
      "4  GMACMTGECORP                      0                0                54   \n",
      "\n",
      "  CreditScoreRange LTV_Category NumMonths  \n",
      "0     Poor (0-579)         High       358  \n",
      "1     Poor (0-579)         High       358  \n",
      "2     Poor (0-579)         High       358  \n",
      "3     Poor (0-579)         High       358  \n",
      "4     Poor (0-579)         High       358  \n",
      "\n",
      "[5 rows x 31 columns]\n"
     ]
    }
   ],
   "source": [
    "# Convert 'FirstPaymentDate' and 'MaturityDate' to strings\n",
    "New_Df2['FirstPaymentDate'] = New_Df2['FirstPaymentDate'].astype(str)\n",
    "New_Df2['MaturityDate'] = New_Df2['MaturityDate'].astype(str)\n",
    "\n",
    "# Calculate the number of months between 'FirstPaymentDate' and 'MaturityDate'\n",
    "New_Df2['NumMonths'] = ((pd.to_datetime(df['MaturityDate'], format='%Y%m') - pd.to_datetime(df['FirstPaymentDate'], format='%Y%m')) / pd.Timedelta(days=30.44)).astype(int)\n",
    "\n",
    "print(New_Df2.head())\n",
    "\n"
   ]
  },
  {
   "cell_type": "markdown",
   "id": "1d30ab8a",
   "metadata": {},
   "source": [
    "### Creating a RepayRange column\n",
    "With the help of 'YearsInRepayment' by dividing 'MonthsInRepayment' by 12"
   ]
  },
  {
   "cell_type": "code",
   "execution_count": 22,
   "id": "2c5a2574",
   "metadata": {},
   "outputs": [
    {
     "name": "stdout",
     "output_type": "stream",
     "text": [
      "   CreditScore FirstPaymentDate FirstTimeHomebuyer MaturityDate    MSA  MIP  \\\n",
      "0            0           199902                  N       202901  16974   25   \n",
      "1            0           199902                  N       202901  19740    0   \n",
      "2            0           199902                  N       202901  29940    0   \n",
      "3            0           199902                  N       202901  31084    0   \n",
      "4            0           199902                  N       202901  35644    0   \n",
      "\n",
      "   Units Occupancy  OCLTV  DTI  ...  NumBorrowers  SellerName  \\\n",
      "0      1         O     89   27  ...             2          FL   \n",
      "1      1         O     73   17  ...             1          FT   \n",
      "2      1         O     75   16  ...             2          FL   \n",
      "3      1         O     76   14  ...             2          GM   \n",
      "4      1         O     78   18  ...             2          GM   \n",
      "\n",
      "           ServicerName EverDelinquent MonthsDelinquent MonthsInRepayment  \\\n",
      "0  WASHINGTONMUTUALBANK              0                0                52   \n",
      "1  CHASEHOMEFINANCELLC               0                0               144   \n",
      "2  WASHINGTONMUTUALBANK              0                0                67   \n",
      "3  GMACMTGECORP                      0                0                35   \n",
      "4  GMACMTGECORP                      0                0                54   \n",
      "\n",
      "  CreditScoreRange LTV_Category NumMonths  RepayRange  \n",
      "0     Poor (0-579)         High       358   0-4 years  \n",
      "1     Poor (0-579)         High       358  8-12 years  \n",
      "2     Poor (0-579)         High       358   4-8 years  \n",
      "3     Poor (0-579)         High       358   0-4 years  \n",
      "4     Poor (0-579)         High       358   0-4 years  \n",
      "\n",
      "[5 rows x 32 columns]\n"
     ]
    }
   ],
   "source": [
    "# Create a new column 'YearsInRepayment' by dividing 'MonthsInRepayment' by 12\n",
    "New_Df2['YearsInRepayment'] = New_Df2['MonthsInRepayment'] / 12\n",
    "\n",
    "# Define the ranges for years\n",
    "bins = [0, 5, 10, 15, 20, 25]\n",
    "# Create labels for each range\n",
    "labels = ['0-4 years', '4-8 years', '8-12 years', '12-16 years', '16-20 years']\n",
    "\n",
    "# Cut the 'YearsInRepayment' into the defined ranges and assign the labels\n",
    "New_Df2['RepayRange'] = pd.cut(New_Df2['YearsInRepayment'], bins=bins, labels=labels)\n",
    "\n",
    "# Convert the 'YearsRange' column to the 'object' data type\n",
    "New_Df2['RepayRange'] = New_Df2['RepayRange'].astype('object')\n",
    "\n",
    "# Drop the 'YearsInRepayment' column if not needed anymore\n",
    "New_Df2.drop(columns=['YearsInRepayment'], inplace=True)\n",
    "\n",
    "# Display the transformed DataFrame\n",
    "print(New_Df2.head())\n"
   ]
  },
  {
   "cell_type": "code",
   "execution_count": 23,
   "id": "a295064b",
   "metadata": {},
   "outputs": [
    {
     "name": "stdout",
     "output_type": "stream",
     "text": [
      "<class 'pandas.core.frame.DataFrame'>\n",
      "RangeIndex: 291451 entries, 0 to 291450\n",
      "Data columns (total 32 columns):\n",
      " #   Column              Non-Null Count   Dtype  \n",
      "---  ------              --------------   -----  \n",
      " 0   CreditScore         291451 non-null  int64  \n",
      " 1   FirstPaymentDate    291451 non-null  object \n",
      " 2   FirstTimeHomebuyer  291451 non-null  object \n",
      " 3   MaturityDate        291451 non-null  object \n",
      " 4   MSA                 291451 non-null  object \n",
      " 5   MIP                 291451 non-null  int64  \n",
      " 6   Units               291451 non-null  int64  \n",
      " 7   Occupancy           291451 non-null  object \n",
      " 8   OCLTV               291451 non-null  int64  \n",
      " 9   DTI                 291451 non-null  int64  \n",
      " 10  OrigUPB             291451 non-null  int64  \n",
      " 11  LTV                 291451 non-null  int64  \n",
      " 12  OrigInterestRate    291451 non-null  float64\n",
      " 13  Channel             291451 non-null  object \n",
      " 14  PPM                 291451 non-null  object \n",
      " 15  ProductType         291451 non-null  object \n",
      " 16  PropertyState       291451 non-null  object \n",
      " 17  PropertyType        291451 non-null  object \n",
      " 18  PostalCode          291451 non-null  object \n",
      " 19  LoanSeqNum          291451 non-null  object \n",
      " 20  LoanPurpose         291451 non-null  object \n",
      " 21  OrigLoanTerm        291451 non-null  int64  \n",
      " 22  NumBorrowers        291451 non-null  object \n",
      " 23  SellerName          291451 non-null  object \n",
      " 24  ServicerName        291451 non-null  object \n",
      " 25  EverDelinquent      291451 non-null  int64  \n",
      " 26  MonthsDelinquent    291451 non-null  int64  \n",
      " 27  MonthsInRepayment   291451 non-null  int64  \n",
      " 28  CreditScoreRange    291451 non-null  object \n",
      " 29  LTV_Category        291451 non-null  object \n",
      " 30  NumMonths           291451 non-null  int32  \n",
      " 31  RepayRange          291451 non-null  object \n",
      "dtypes: float64(1), int32(1), int64(11), object(19)\n",
      "memory usage: 70.0+ MB\n"
     ]
    }
   ],
   "source": [
    "New_Df2.info()"
   ]
  },
  {
   "cell_type": "code",
   "execution_count": 24,
   "id": "387c49a0",
   "metadata": {
    "scrolled": true
   },
   "outputs": [
    {
     "data": {
      "text/plain": [
       "Index(['CreditScore', 'FirstPaymentDate', 'FirstTimeHomebuyer', 'MaturityDate',\n",
       "       'MSA', 'MIP', 'Units', 'Occupancy', 'OCLTV', 'DTI', 'OrigUPB', 'LTV',\n",
       "       'OrigInterestRate', 'Channel', 'PPM', 'ProductType', 'PropertyState',\n",
       "       'PropertyType', 'PostalCode', 'LoanSeqNum', 'LoanPurpose',\n",
       "       'OrigLoanTerm', 'NumBorrowers', 'SellerName', 'ServicerName',\n",
       "       'EverDelinquent', 'MonthsDelinquent', 'MonthsInRepayment',\n",
       "       'CreditScoreRange', 'LTV_Category', 'NumMonths', 'RepayRange'],\n",
       "      dtype='object')"
      ]
     },
     "execution_count": 24,
     "metadata": {},
     "output_type": "execute_result"
    }
   ],
   "source": [
    "New_Df2.columns"
   ]
  },
  {
   "cell_type": "code",
   "execution_count": 25,
   "id": "41dc4a15",
   "metadata": {},
   "outputs": [],
   "source": [
    "Df3 = New_Df2.copy"
   ]
  },
  {
   "cell_type": "code",
   "execution_count": 26,
   "id": "51226a06",
   "metadata": {},
   "outputs": [
    {
     "name": "stdout",
     "output_type": "stream",
     "text": [
      "   CreditScore FirstTimeHomebuyer  MIP  Units Occupancy  OCLTV  DTI  OrigUPB  \\\n",
      "0            0                  N   25      1         O     89   27   117000   \n",
      "1            0                  N    0      1         O     73   17   109000   \n",
      "2            0                  N    0      1         O     75   16    88000   \n",
      "3            0                  N    0      1         O     76   14   160000   \n",
      "4            0                  N    0      1         O     78   18   109000   \n",
      "\n",
      "   LTV  OrigInterestRate  ... LoanPurpose OrigLoanTerm NumBorrowers  \\\n",
      "0   89             6.750  ...           P          360            2   \n",
      "1   73             6.500  ...           N          360            1   \n",
      "2   75             6.875  ...           N          360            2   \n",
      "3   76             6.875  ...           N          360            2   \n",
      "4   78             7.125  ...           N          360            2   \n",
      "\n",
      "  EverDelinquent  MonthsDelinquent MonthsInRepayment  CreditScoreRange  \\\n",
      "0              0                 0                52      Poor (0-579)   \n",
      "1              0                 0               144      Poor (0-579)   \n",
      "2              0                 0                67      Poor (0-579)   \n",
      "3              0                 0                35      Poor (0-579)   \n",
      "4              0                 0                54      Poor (0-579)   \n",
      "\n",
      "   LTV_Category  NumMonths  RepayRange  \n",
      "0          High        358   0-4 years  \n",
      "1          High        358  8-12 years  \n",
      "2          High        358   4-8 years  \n",
      "3          High        358   0-4 years  \n",
      "4          High        358   0-4 years  \n",
      "\n",
      "[5 rows x 23 columns]\n"
     ]
    }
   ],
   "source": [
    "# List of columns to drop\n",
    "columns_to_drop = ['SellerName', 'FirstPaymentDate', 'MaturityDate', 'ServicerName', 'MSA', 'PropertyState', 'PostalCode','LoanSeqNum','ProductType']\n",
    "\n",
    "# Drop the specified columns from the dataset\n",
    "New_Df2 = New_Df2.drop(columns=columns_to_drop)\n",
    "\n",
    "# Display the modified dataset\n",
    "print(New_Df2.head())\n"
   ]
  },
  {
   "cell_type": "code",
   "execution_count": 27,
   "id": "04f280d1",
   "metadata": {},
   "outputs": [
    {
     "name": "stdout",
     "output_type": "stream",
     "text": [
      "   CreditScore  FirstTimeHomebuyer  MIP  Units  Occupancy  OCLTV  DTI  \\\n",
      "0            0                   0   25      1          1     89   27   \n",
      "1            0                   0    0      1          1     73   17   \n",
      "\n",
      "   OrigUPB  LTV  OrigInterestRate  ...  LoanPurpose  OrigLoanTerm  \\\n",
      "0   117000   89              6.75  ...            2           360   \n",
      "1   109000   73              6.50  ...            1           360   \n",
      "\n",
      "   NumBorrowers  EverDelinquent  MonthsDelinquent  MonthsInRepayment  \\\n",
      "0             1               0                 0                 52   \n",
      "1             0               0                 0                144   \n",
      "\n",
      "   CreditScoreRange  LTV_Category  NumMonths  RepayRange  \n",
      "0                 3             0        358           0  \n",
      "1                 3             0        358           3  \n",
      "\n",
      "[2 rows x 23 columns]\n"
     ]
    }
   ],
   "source": [
    "New_Df2_encoded = New_Df2.copy()\n",
    "\n",
    "# Convert 'FirstTimeHomebuyer' column to 'Yes' and 'No'\n",
    "New_Df2_encoded['FirstTimeHomebuyer'] = New_Df2_encoded['FirstTimeHomebuyer'].replace({'N': 'No', 'Y': 'Yes'})\n",
    "\n",
    "# List of categorical columns to label encode\n",
    "categorical_columns = ['CreditScoreRange', 'LTV_Category', 'RepayRange', 'Occupancy', 'LoanPurpose', 'FirstTimeHomebuyer','PPM','PropertyType','NumBorrowers','Channel']\n",
    "\n",
    "# Apply label encoding to categorical columns\n",
    "for col in categorical_columns:\n",
    "    label_encoder = LabelEncoder()\n",
    "    New_Df2_encoded[col] = label_encoder.fit_transform(New_Df2_encoded[col])\n",
    "\n",
    "# Display the encoded dataset\n",
    "print(New_Df2_encoded.head(2))\n",
    "\n"
   ]
  },
  {
   "cell_type": "code",
   "execution_count": 28,
   "id": "c9e0026e",
   "metadata": {},
   "outputs": [],
   "source": [
    "cat_columns = New_Df2_encoded.select_dtypes(include=['object'])\n",
    "\n",
    "# Iterate over categorical columns\n",
    "for col in cat_columns:\n",
    "    # Count the number of unique categories in the column\n",
    "    num_categories = New_Df2_encoded[col].nunique()\n",
    "    print(f\"{col} has {num_categories} categories\")"
   ]
  },
  {
   "cell_type": "code",
   "execution_count": 29,
   "id": "0b1ddcfa",
   "metadata": {},
   "outputs": [
    {
     "name": "stdout",
     "output_type": "stream",
     "text": [
      "<class 'pandas.core.frame.DataFrame'>\n",
      "RangeIndex: 291451 entries, 0 to 291450\n",
      "Data columns (total 23 columns):\n",
      " #   Column              Non-Null Count   Dtype  \n",
      "---  ------              --------------   -----  \n",
      " 0   CreditScore         291451 non-null  int64  \n",
      " 1   FirstTimeHomebuyer  291451 non-null  int32  \n",
      " 2   MIP                 291451 non-null  int64  \n",
      " 3   Units               291451 non-null  int64  \n",
      " 4   Occupancy           291451 non-null  int32  \n",
      " 5   OCLTV               291451 non-null  int64  \n",
      " 6   DTI                 291451 non-null  int64  \n",
      " 7   OrigUPB             291451 non-null  int64  \n",
      " 8   LTV                 291451 non-null  int64  \n",
      " 9   OrigInterestRate    291451 non-null  float64\n",
      " 10  Channel             291451 non-null  int32  \n",
      " 11  PPM                 291451 non-null  int32  \n",
      " 12  PropertyType        291451 non-null  int32  \n",
      " 13  LoanPurpose         291451 non-null  int32  \n",
      " 14  OrigLoanTerm        291451 non-null  int64  \n",
      " 15  NumBorrowers        291451 non-null  int32  \n",
      " 16  EverDelinquent      291451 non-null  int64  \n",
      " 17  MonthsDelinquent    291451 non-null  int64  \n",
      " 18  MonthsInRepayment   291451 non-null  int64  \n",
      " 19  CreditScoreRange    291451 non-null  int32  \n",
      " 20  LTV_Category        291451 non-null  int32  \n",
      " 21  NumMonths           291451 non-null  int32  \n",
      " 22  RepayRange          291451 non-null  int32  \n",
      "dtypes: float64(1), int32(11), int64(11)\n",
      "memory usage: 38.9 MB\n"
     ]
    }
   ],
   "source": [
    "New_Df2_encoded.info()"
   ]
  },
  {
   "cell_type": "code",
   "execution_count": 30,
   "id": "891ee9ab",
   "metadata": {},
   "outputs": [],
   "source": [
    "Df4 = New_Df2_encoded.copy()"
   ]
  },
  {
   "cell_type": "markdown",
   "id": "9493bff0",
   "metadata": {},
   "source": [
    "### FEATURE ENGINEERING"
   ]
  },
  {
   "cell_type": "code",
   "execution_count": 31,
   "id": "fd171c40",
   "metadata": {},
   "outputs": [],
   "source": [
    "X = New_Df2_encoded.drop(['EverDelinquent'], axis=1 , inplace=False)\n",
    "y = New_Df2_encoded['EverDelinquent']"
   ]
  },
  {
   "cell_type": "code",
   "execution_count": 32,
   "id": "3d5d770d",
   "metadata": {},
   "outputs": [
    {
     "data": {
      "text/html": [
       "<div>\n",
       "<style scoped>\n",
       "    .dataframe tbody tr th:only-of-type {\n",
       "        vertical-align: middle;\n",
       "    }\n",
       "\n",
       "    .dataframe tbody tr th {\n",
       "        vertical-align: top;\n",
       "    }\n",
       "\n",
       "    .dataframe thead th {\n",
       "        text-align: right;\n",
       "    }\n",
       "</style>\n",
       "<table border=\"1\" class=\"dataframe\">\n",
       "  <thead>\n",
       "    <tr style=\"text-align: right;\">\n",
       "      <th></th>\n",
       "      <th>features</th>\n",
       "      <th>score</th>\n",
       "    </tr>\n",
       "  </thead>\n",
       "  <tbody>\n",
       "    <tr>\n",
       "      <th>0</th>\n",
       "      <td>CreditScore</td>\n",
       "      <td>8.259904e+04</td>\n",
       "    </tr>\n",
       "    <tr>\n",
       "      <th>1</th>\n",
       "      <td>FirstTimeHomebuyer</td>\n",
       "      <td>2.346114e+01</td>\n",
       "    </tr>\n",
       "    <tr>\n",
       "      <th>2</th>\n",
       "      <td>MIP</td>\n",
       "      <td>1.820773e+04</td>\n",
       "    </tr>\n",
       "    <tr>\n",
       "      <th>3</th>\n",
       "      <td>Units</td>\n",
       "      <td>1.208859e+00</td>\n",
       "    </tr>\n",
       "    <tr>\n",
       "      <th>4</th>\n",
       "      <td>Occupancy</td>\n",
       "      <td>2.329238e+00</td>\n",
       "    </tr>\n",
       "    <tr>\n",
       "      <th>5</th>\n",
       "      <td>OCLTV</td>\n",
       "      <td>3.774875e+03</td>\n",
       "    </tr>\n",
       "    <tr>\n",
       "      <th>6</th>\n",
       "      <td>DTI</td>\n",
       "      <td>6.526476e+03</td>\n",
       "    </tr>\n",
       "    <tr>\n",
       "      <th>7</th>\n",
       "      <td>OrigUPB</td>\n",
       "      <td>3.069602e+07</td>\n",
       "    </tr>\n",
       "    <tr>\n",
       "      <th>8</th>\n",
       "      <td>LTV</td>\n",
       "      <td>3.794497e+03</td>\n",
       "    </tr>\n",
       "    <tr>\n",
       "      <th>9</th>\n",
       "      <td>OrigInterestRate</td>\n",
       "      <td>1.812752e+01</td>\n",
       "    </tr>\n",
       "    <tr>\n",
       "      <th>10</th>\n",
       "      <td>Channel</td>\n",
       "      <td>1.467871e+01</td>\n",
       "    </tr>\n",
       "    <tr>\n",
       "      <th>11</th>\n",
       "      <td>PPM</td>\n",
       "      <td>6.828515e+01</td>\n",
       "    </tr>\n",
       "    <tr>\n",
       "      <th>12</th>\n",
       "      <td>PropertyType</td>\n",
       "      <td>6.637926e+01</td>\n",
       "    </tr>\n",
       "    <tr>\n",
       "      <th>13</th>\n",
       "      <td>LoanPurpose</td>\n",
       "      <td>6.407168e+01</td>\n",
       "    </tr>\n",
       "    <tr>\n",
       "      <th>14</th>\n",
       "      <td>OrigLoanTerm</td>\n",
       "      <td>4.536238e-01</td>\n",
       "    </tr>\n",
       "    <tr>\n",
       "      <th>15</th>\n",
       "      <td>NumBorrowers</td>\n",
       "      <td>5.434837e+02</td>\n",
       "    </tr>\n",
       "    <tr>\n",
       "      <th>16</th>\n",
       "      <td>MonthsDelinquent</td>\n",
       "      <td>2.171561e+06</td>\n",
       "    </tr>\n",
       "    <tr>\n",
       "      <th>17</th>\n",
       "      <td>MonthsInRepayment</td>\n",
       "      <td>5.516465e+05</td>\n",
       "    </tr>\n",
       "    <tr>\n",
       "      <th>18</th>\n",
       "      <td>CreditScoreRange</td>\n",
       "      <td>7.227536e+03</td>\n",
       "    </tr>\n",
       "    <tr>\n",
       "      <th>19</th>\n",
       "      <td>LTV_Category</td>\n",
       "      <td>7.729640e+02</td>\n",
       "    </tr>\n",
       "    <tr>\n",
       "      <th>20</th>\n",
       "      <td>NumMonths</td>\n",
       "      <td>4.111338e-01</td>\n",
       "    </tr>\n",
       "    <tr>\n",
       "      <th>21</th>\n",
       "      <td>RepayRange</td>\n",
       "      <td>1.629608e+04</td>\n",
       "    </tr>\n",
       "  </tbody>\n",
       "</table>\n",
       "</div>"
      ],
      "text/plain": [
       "              features         score\n",
       "0          CreditScore  8.259904e+04\n",
       "1   FirstTimeHomebuyer  2.346114e+01\n",
       "2                  MIP  1.820773e+04\n",
       "3                Units  1.208859e+00\n",
       "4            Occupancy  2.329238e+00\n",
       "5                OCLTV  3.774875e+03\n",
       "6                  DTI  6.526476e+03\n",
       "7              OrigUPB  3.069602e+07\n",
       "8                  LTV  3.794497e+03\n",
       "9     OrigInterestRate  1.812752e+01\n",
       "10             Channel  1.467871e+01\n",
       "11                 PPM  6.828515e+01\n",
       "12        PropertyType  6.637926e+01\n",
       "13         LoanPurpose  6.407168e+01\n",
       "14        OrigLoanTerm  4.536238e-01\n",
       "15        NumBorrowers  5.434837e+02\n",
       "16    MonthsDelinquent  2.171561e+06\n",
       "17   MonthsInRepayment  5.516465e+05\n",
       "18    CreditScoreRange  7.227536e+03\n",
       "19        LTV_Category  7.729640e+02\n",
       "20           NumMonths  4.111338e-01\n",
       "21          RepayRange  1.629608e+04"
      ]
     },
     "execution_count": 32,
     "metadata": {},
     "output_type": "execute_result"
    }
   ],
   "source": [
    "best_features = SelectKBest(score_func=chi2, k=10)\n",
    "fit = best_features.fit(X, y)\n",
    "loansScores = pd.DataFrame(fit.scores_)\n",
    "loansCol = pd.DataFrame(X.columns)\n",
    "featureScore = pd.concat([loansCol, loansScores], axis = 1)\n",
    "featureScore.columns = ['features', 'score']\n",
    "featureScore"
   ]
  },
  {
   "cell_type": "markdown",
   "id": "f94f2d14",
   "metadata": {},
   "source": [
    "### F-test"
   ]
  },
  {
   "cell_type": "code",
   "execution_count": 33,
   "id": "4a18b81e",
   "metadata": {},
   "outputs": [
    {
     "name": "stdout",
     "output_type": "stream",
     "text": [
      "Selected features using F-test:\n",
      "Index(['CreditScore', 'OCLTV', 'DTI', 'OrigUPB', 'LTV', 'NumBorrowers',\n",
      "       'MonthsDelinquent', 'MonthsInRepayment', 'CreditScoreRange',\n",
      "       'RepayRange'],\n",
      "      dtype='object')\n"
     ]
    }
   ],
   "source": [
    "f_test_selector = SelectKBest(score_func=f_classif, k=10)\n",
    "X_f_test_selected = f_test_selector.fit_transform(X, y)\n",
    "print(\"Selected features using F-test:\")\n",
    "print(X.columns[f_test_selector.get_support()])"
   ]
  },
  {
   "cell_type": "markdown",
   "id": "59b3c49f",
   "metadata": {},
   "source": [
    "### Random_Forest_Classifier"
   ]
  },
  {
   "cell_type": "code",
   "execution_count": 34,
   "id": "44a5f4eb",
   "metadata": {},
   "outputs": [
    {
     "name": "stdout",
     "output_type": "stream",
     "text": [
      "Selected features using Random Forest:\n",
      "Index(['MonthsDelinquent', 'CreditScore', 'MonthsInRepayment', 'RepayRange',\n",
      "       'CreditScoreRange', 'OrigUPB', 'DTI', 'OrigInterestRate', 'LTV',\n",
      "       'OCLTV'],\n",
      "      dtype='object')\n"
     ]
    }
   ],
   "source": [
    "# Tree-based feature importance\n",
    "rf_classifier = RandomForestClassifier()  # You can adjust hyperparameters\n",
    "rf_classifier.fit(X, y)\n",
    "feature_importances = pd.Series(rf_classifier.feature_importances_, index=X.columns)\n",
    "selected_features_rf = feature_importances.nlargest(10).index\n",
    "X_rf_selected = X[selected_features_rf]\n",
    "\n",
    "print(\"Selected features using Random Forest:\")\n",
    "print(selected_features_rf)"
   ]
  },
  {
   "cell_type": "markdown",
   "id": "71dced3c",
   "metadata": {},
   "source": [
    "### L1 regularization (Lasso)"
   ]
  },
  {
   "cell_type": "code",
   "execution_count": 35,
   "id": "bcde064e",
   "metadata": {},
   "outputs": [
    {
     "name": "stdout",
     "output_type": "stream",
     "text": [
      "\n",
      "Selected features using Lasso:\n",
      "Index(['CreditScore', 'FirstTimeHomebuyer', 'MIP', 'Units', 'Occupancy',\n",
      "       'OCLTV', 'DTI', 'OrigUPB', 'LTV', 'OrigInterestRate', 'Channel', 'PPM',\n",
      "       'PropertyType', 'LoanPurpose', 'OrigLoanTerm', 'NumBorrowers',\n",
      "       'MonthsDelinquent', 'MonthsInRepayment', 'CreditScoreRange',\n",
      "       'LTV_Category', 'NumMonths', 'RepayRange'],\n",
      "      dtype='object')\n"
     ]
    },
    {
     "name": "stderr",
     "output_type": "stream",
     "text": [
      "C:\\Users\\ladli\\Anaconda\\lib\\site-packages\\sklearn\\svm\\_base.py:1244: ConvergenceWarning: Liblinear failed to converge, increase the number of iterations.\n",
      "  warnings.warn(\n"
     ]
    }
   ],
   "source": [
    "from sklearn.linear_model import LogisticRegression\n",
    "lasso = LogisticRegression(penalty='l1', solver='liblinear')\n",
    "lasso.fit(X, y)\n",
    "selected_features_lasso = X.columns[lasso.coef_[0] != 0]\n",
    "X_lasso_selected = X[selected_features_lasso]\n",
    "\n",
    "print(\"\\nSelected features using Lasso:\")\n",
    "print(selected_features_lasso)"
   ]
  },
  {
   "cell_type": "markdown",
   "id": "6e0056da",
   "metadata": {},
   "source": [
    "### Chi-squared feature selection"
   ]
  },
  {
   "cell_type": "code",
   "execution_count": 36,
   "id": "70ddd196",
   "metadata": {},
   "outputs": [
    {
     "name": "stdout",
     "output_type": "stream",
     "text": [
      "              Feature         Score\n",
      "7             OrigUPB  3.069602e+07\n",
      "16   MonthsDelinquent  2.171561e+06\n",
      "17  MonthsInRepayment  5.516465e+05\n",
      "0         CreditScore  8.259904e+04\n",
      "2                 MIP  1.820773e+04\n",
      "21         RepayRange  1.629608e+04\n",
      "18   CreditScoreRange  7.227536e+03\n",
      "6                 DTI  6.526476e+03\n",
      "8                 LTV  3.794497e+03\n",
      "5               OCLTV  3.774875e+03\n"
     ]
    },
    {
     "data": {
      "image/png": "[encoded data removed]",
      "text/plain": [
       "<Figure size 640x480 with 1 Axes>"
      ]
     },
     "metadata": {},
     "output_type": "display_data"
    }
   ],
   "source": [
    "from sklearn.feature_selection import SelectKBest\n",
    "from sklearn.feature_selection import chi2\n",
    "import pandas as pd\n",
    "import matplotlib.pyplot as plt\n",
    "\n",
    "X = New_Df2_encoded.drop('EverDelinquent', axis=1)\n",
    "y = New_Df2_encoded['EverDelinquent']\n",
    "\n",
    "# Apply SelectKBest class to extract top 10 best features\n",
    "best_features = SelectKBest(score_func=chi2, k=10)\n",
    "fit = best_features.fit(X, y)\n",
    "\n",
    "# Create DataFrame for feature scores and names\n",
    "feature_scores = pd.DataFrame({'Feature': X.columns, 'Score': fit.scores_})\n",
    "\n",
    "# Print the 10 best features\n",
    "print(feature_scores.nlargest(10, 'Score'))\n",
    "\n",
    "# Plot the top 5 features\n",
    "top_10_features = feature_scores.nlargest(5, 'Score')\n",
    "plt.barh(top_10_features['Feature'], top_10_features['Score'])\n",
    "plt.xlabel('Score')\n",
    "plt.ylabel('Features')\n",
    "plt.title('Top 10 Features based on Chi-squared score')\n",
    "plt.show()\n"
   ]
  },
  {
   "cell_type": "markdown",
   "id": "c930ac2c",
   "metadata": {},
   "source": [
    "### MI SCORE"
   ]
  },
  {
   "cell_type": "code",
   "execution_count": 37,
   "id": "639aaf86",
   "metadata": {},
   "outputs": [
    {
     "name": "stdout",
     "output_type": "stream",
     "text": [
      "[0.03579659 0.00578962 0.00547914 0.04983593 0.05605884 0.00613118\n",
      " 0.00304645 0.00500429 0.00689846 0.0090021  0.02154491 0.00054948\n",
      " 0.05068465 0.02045457 0.05296587 0.04479638 0.49747153 0.03114927\n",
      " 0.04651537 0.00307922 0.03186904 0.02987544]\n"
     ]
    }
   ],
   "source": [
    "from sklearn.feature_selection import mutual_info_classif as MIC\n",
    "mi_score = MIC(X,y)\n",
    "print(mi_score)"
   ]
  },
  {
   "cell_type": "markdown",
   "id": "24336a93",
   "metadata": {},
   "source": [
    "The *mutual_info_classif* function is a list of mutual information scores calculated for each feature with respect to the target variable.\n",
    "\n",
    "Features with higher scores, such as index 16 (MonthsDelinquent) and index 17 (MonthsInRepayment), have a relatively strong relationship with the target variable.\n",
    "\n",
    "Features with lower scores, such as index 6 (DTI) and index 11 (PPM), have weaker relationships with the target."
   ]
  },
  {
   "cell_type": "markdown",
   "id": "4447d6be",
   "metadata": {},
   "source": [
    "Dataset_1"
   ]
  },
  {
   "cell_type": "code",
   "execution_count": 38,
   "id": "4106a698",
   "metadata": {},
   "outputs": [],
   "source": [
    "from sklearn.model_selection import train_test_split\n",
    "\n",
    "X_train_1, X_test_1, y_train, y_test = train_test_split(\n",
    "    X, y,\n",
    "    test_size=0.25,  # You can adjust the test size as needed\n",
    "    random_state=0,\n",
    "    stratify=y\n",
    ")"
   ]
  },
  {
   "cell_type": "markdown",
   "id": "7dede6a3",
   "metadata": {},
   "source": [
    "Dataset_2 with mi_score > 0.25"
   ]
  },
  {
   "cell_type": "code",
   "execution_count": 39,
   "id": "e9c3ae8b",
   "metadata": {},
   "outputs": [],
   "source": [
    "mi_score_selected_index = np.where(mi_score > 0.25)[0]\n",
    "X_2 = X.iloc[:, mi_score_selected_index]\n",
    "\n",
    "X_train_2, X_test_2, y_train, y_test = train_test_split(\n",
    "    X_2, y,\n",
    "    test_size=0.25,  # You can adjust the test size as needed\n",
    "    random_state=0,\n",
    "    stratify=y\n",
    ")\n",
    "\n"
   ]
  },
  {
   "cell_type": "markdown",
   "id": "9f66c0b6",
   "metadata": {},
   "source": [
    "Dataset_3 with mi_score < 0.25"
   ]
  },
  {
   "cell_type": "code",
   "execution_count": 40,
   "id": "40f27d29",
   "metadata": {},
   "outputs": [],
   "source": [
    "mi_score_selected_index = np.where(mi_score < 0.25)[0]\n",
    "X_3 = X.iloc[:, mi_score_selected_index]\n",
    "\n",
    "X_train_3, X_test_3, y_train, y_test = train_test_split(\n",
    "    X_3, y,\n",
    "    test_size=0.25,  # You can adjust the test size as needed\n",
    "    random_state=0,\n",
    "    stratify=y\n",
    ")\n"
   ]
  },
  {
   "cell_type": "markdown",
   "id": "6b3b542d",
   "metadata": {},
   "source": [
    "Comparing all three model and check the accuracy"
   ]
  },
  {
   "cell_type": "code",
   "execution_count": 41,
   "id": "013f4e95",
   "metadata": {},
   "outputs": [
    {
     "name": "stdout",
     "output_type": "stream",
     "text": [
      "score_1: 1.0\n",
      "score_2: 1.0\n",
      "score_3: 0.7184853766657975\n"
     ]
    }
   ],
   "source": [
    "# Fit Decision Tree models\n",
    "model_1 = DecisionTreeClassifier(random_state=0).fit(X_train_1, y_train)\n",
    "model_2 = DecisionTreeClassifier(random_state=0).fit(X_train_2, y_train)\n",
    "model_3 = DecisionTreeClassifier(random_state=0).fit(X_train_3, y_train)\n",
    "\n",
    "# Calculate accuracy scores\n",
    "score_1 = accuracy_score(y_test, model_1.predict(X_test_1))\n",
    "score_2 = accuracy_score(y_test, model_2.predict(X_test_2))\n",
    "score_3 = accuracy_score(y_test, model_3.predict(X_test_3))\n",
    "\n",
    "# Print scores\n",
    "print(f\"score_1: {score_1}\\nscore_2: {score_2}\\nscore_3: {score_3}\")\n"
   ]
  },
  {
   "cell_type": "markdown",
   "id": "7cfca475",
   "metadata": {},
   "source": [
    "Three different datasets are created based on the feature importance scores obtained from the mutual information calculation. \n",
    "\n",
    "Further, datasets are used to train three separate Decision Tree models.\n",
    "\n",
    "The output shows that models trained on the different subsets of features achieve accuracy scores of 1.0 (perfect accuracy) for the first two models, and a score of approximately 0.72 for the third model."
   ]
  },
  {
   "cell_type": "markdown",
   "id": "f42a5ece",
   "metadata": {},
   "source": [
    "### PCA"
   ]
  },
  {
   "cell_type": "code",
   "execution_count": 42,
   "id": "6f3fb417",
   "metadata": {},
   "outputs": [
    {
     "name": "stdout",
     "output_type": "stream",
     "text": [
      "      PCA_1     PCA_2     PCA_3     PCA_4     PCA_5\n",
      "0 -3.845863  1.708264  5.245634 -2.272140  0.383295\n",
      "1 -1.039457  4.520247  4.934078 -2.186968  0.958060\n",
      "2 -1.462187  3.058819  5.398767 -2.774634  0.640831\n",
      "3 -1.961805  1.135438  6.056649 -2.450484  1.612355\n",
      "4 -2.009163  1.661658  5.881487 -2.690810  0.826833\n"
     ]
    }
   ],
   "source": [
    "features = featureScore['features']\n",
    "scores = featureScore['score']\n",
    "\n",
    "# Sort the features by their scores in descending order\n",
    "sorted_features = features[np.argsort(scores)[::-1]]\n",
    "\n",
    "# Select the top features for PCA (adjust the number as needed)\n",
    "selected_features = sorted_features[:10]\n",
    "\n",
    "# Standardize the selected features\n",
    "scaler = StandardScaler()\n",
    "X_scaled = scaler.fit_transform(X[selected_features])\n",
    "\n",
    "# Perform PCA with the number of components you desire\n",
    "n_components = 5 \n",
    "pca = PCA(n_components=n_components)\n",
    "X_pca = pca.fit_transform(X_scaled)\n",
    "\n",
    "# Create a new DataFrame to store the PCA results\n",
    "pca_results = pd.DataFrame(data=X_pca, columns=[f'PCA_{i+1}' for i in range(n_components)])\n",
    "\n",
    "# Display the PCA results\n",
    "print(pca_results.head())\n"
   ]
  },
  {
   "cell_type": "code",
   "execution_count": 43,
   "id": "c14d806e",
   "metadata": {},
   "outputs": [
    {
     "name": "stdout",
     "output_type": "stream",
     "text": [
      "Index(['DTI', 'LTV', 'OCLTV', 'OrigInterestRate', 'LTV', 'DTI',\n",
      "       'FirstTimeHomebuyer', 'CreditScore', 'DTI', 'OCLTV', 'DTI', 'LTV',\n",
      "       'OrigInterestRate', 'OrigInterestRate', 'MIP', 'Occupancy', 'DTI',\n",
      "       'MIP', 'OrigInterestRate', 'OCLTV', 'OrigInterestRate', 'MIP'],\n",
      "      dtype='object')\n"
     ]
    },
    {
     "data": {
      "image/png": "[encoded data removed]",
      "text/plain": [
       "<Figure size 640x480 with 1 Axes>"
      ]
     },
     "metadata": {},
     "output_type": "display_data"
    }
   ],
   "source": [
    "from sklearn.decomposition import PCA\n",
    "import matplotlib.pyplot as plt\n",
    "\n",
    "X = New_Df2_encoded.drop('EverDelinquent', axis=1)\n",
    "y = New_Df2_encoded['EverDelinquent']\n",
    "\n",
    "# Apply PCA\n",
    "pca = PCA(n_components=10)\n",
    "X_pca = pca.fit_transform(X)\n",
    "\n",
    "# Get the selected feature names\n",
    "selected_features = X.columns[pca.components_.argmax(axis=0)]\n",
    "\n",
    "# Print the selected features\n",
    "print(selected_features)\n",
    "\n",
    "# Graph the scores of the selected features\n",
    "plt.barh(selected_features, pca.components_.max(axis=0))\n",
    "plt.xlabel('Score')\n",
    "plt.ylabel('Features')\n",
    "plt.title('Selected Features based on PCA Scores')\n",
    "plt.show()\n"
   ]
  },
  {
   "cell_type": "code",
   "execution_count": 44,
   "id": "183e0d90",
   "metadata": {},
   "outputs": [
    {
     "name": "stdout",
     "output_type": "stream",
     "text": [
      "Accuracy score: 0.8280866686109348\n"
     ]
    }
   ],
   "source": [
    "# Split the dataset into training and testing sets\n",
    "X_train, X_test, y_train, y_test = train_test_split(New_Df2_encoded.drop('EverDelinquent', axis=1), New_Df2_encoded['EverDelinquent'], test_size=0.2, random_state=42)\n",
    "\n",
    "# Define the pipeline for PCA\n",
    "pca_pipe = Pipeline([\n",
    "    ('scaler', StandardScaler()),\n",
    "    ('pca', PCA(n_components=10)),\n",
    "    ('knn', KNeighborsClassifier())\n",
    "])\n",
    "\n",
    "# Fit and evaluate the pipelines\n",
    "pca_pipe.fit(X_train, y_train)\n",
    "\n",
    "# Make predictions\n",
    "y_pred = pca_pipe.predict(X_test)\n",
    "\n",
    "# Calculate metrics\n",
    "accuracy = accuracy_score(y_test, y_pred)\n",
    "\n",
    "# Print the metrics\n",
    "print(f\"Accuracy score: {accuracy}\")\n"
   ]
  },
  {
   "cell_type": "code",
   "execution_count": 45,
   "id": "018531a0",
   "metadata": {},
   "outputs": [
    {
     "name": "stdout",
     "output_type": "stream",
     "text": [
      "Explained Variance Ratio: [0.15876151 0.09117246 0.08830593 0.07175197 0.06204423 0.05707931\n",
      " 0.05066859 0.04877723 0.0443485  0.04277947]\n"
     ]
    }
   ],
   "source": [
    "pca_step = pca_pipe.named_steps['pca']\n",
    "\n",
    "# Get the explained variance ratio\n",
    "explained_variance_ratio = pca_step.explained_variance_ratio_\n",
    "\n",
    "# Print the explained variance ratio\n",
    "print(\"Explained Variance Ratio:\", explained_variance_ratio)\n"
   ]
  },
  {
   "cell_type": "markdown",
   "id": "6fc87fec",
   "metadata": {},
   "source": [
    "The first principal component has the highest variance (0.15876151), and the last principal component\n",
    "has the least variance (0.04277947)."
   ]
  },
  {
   "cell_type": "code",
   "execution_count": 46,
   "id": "74a6b50b",
   "metadata": {},
   "outputs": [
    {
     "name": "stdout",
     "output_type": "stream",
     "text": [
      "Column name with highest variance: CreditScore\n",
      "Column name with least variance: OrigInterestRate\n"
     ]
    }
   ],
   "source": [
    "pca = PCA(n_components=10)\n",
    "X_pca = pca.fit_transform(X)\n",
    "\n",
    "# Get the original feature names\n",
    "original_feature_names = X.columns\n",
    "\n",
    "# Get the order of feature importance based on explained variance ratio\n",
    "sorted_variance_indices = pca.explained_variance_ratio_.argsort()[::-1]\n",
    "\n",
    "# Get the column names of the first and last principal components\n",
    "first_principal_component_column = original_feature_names[sorted_variance_indices[0]]\n",
    "last_principal_component_column = original_feature_names[sorted_variance_indices[-1]]\n",
    "\n",
    "print(f\"Column name with highest variance: {first_principal_component_column}\")\n",
    "print(f\"Column name with least variance: {last_principal_component_column}\")\n"
   ]
  },
  {
   "cell_type": "code",
   "execution_count": 47,
   "id": "698c26e8",
   "metadata": {},
   "outputs": [],
   "source": [
    "Sel_Feat = ['DTI', 'LTV', 'OCLTV', 'OrigInterestRate','FirstTimeHomebuyer', 'CreditScore', 'MIP', 'Occupancy']\n",
    "Sel_Dataset = New_Df2_encoded[Sel_Feat]"
   ]
  },
  {
   "cell_type": "code",
   "execution_count": 48,
   "id": "6a02634c",
   "metadata": {},
   "outputs": [
    {
     "data": {
      "text/plain": [
       "<Axes: >"
      ]
     },
     "execution_count": 48,
     "metadata": {},
     "output_type": "execute_result"
    },
    {
     "data": {
      "image/png": "[encoded data removed]",
      "text/plain": [
       "<Figure size 640x480 with 2 Axes>"
      ]
     },
     "metadata": {},
     "output_type": "display_data"
    }
   ],
   "source": [
    "sns.heatmap(Sel_Dataset.corr())"
   ]
  }
 ],
 "metadata": {
  "kernelspec": {
   "display_name": "Python 3 (ipykernel)",
   "language": "python",
   "name": "python3"
  },
  "language_info": {
   "codemirror_mode": {
    "name": "ipython",
    "version": 3
   },
   "file_extension": ".py",
   "mimetype": "text/x-python",
   "name": "python",
   "nbconvert_exporter": "python",
   "pygments_lexer": "ipython3",
   "version": "3.10.9"
  }
 },
 "nbformat": 4,
 "nbformat_minor": 5
}
